{
 "cells": [
  {
   "cell_type": "markdown",
   "id": "e283abdf",
   "metadata": {},
   "source": [
    "# <font color='darkred'>Financial Inclusion in Africa</font>"
   ]
  },
  {
   "cell_type": "markdown",
   "id": "1195fab3",
   "metadata": {},
   "source": [
    "### <font color='darkblue'>Project: Create ML model to predict which individuals are most likely to have or use a bank account</font>\n",
    "\n",
    "### <font color='darkblue'>Elaborated by: Rhili Nacef</font>"
   ]
  },
  {
   "cell_type": "markdown",
   "id": "49e4a9a0",
   "metadata": {},
   "source": [
    "## <font color='darkred'>Index</font>\n",
    "\n",
    "##### <font color='darkblue'>Introduction</font>\n",
    "##### <font color='darkblue'>1. Import Librairies</font>\n",
    "##### <font color='darkblue'>2. Load Dataset</font>\n",
    "##### <font color='darkblue'>3. Exploratory Data Analysis</font>\n",
    "##### <font color='darkblue'>4. Data Preprocessing</font>\n",
    "    4.1. Data Cleaning\n",
    "    4.2. Features Engineering\n",
    "    4.3. Handling Outliers\n",
    "##### <font color='darkblue'>5. Building the Model</font>\n",
    "    5.1. Split the dataset\n",
    "    5.2. RandomForestClassifier\n",
    "    5.3. AdaBoostClassifier\n",
    "    5.4. GradientBoostingClassifier\n",
    "    5.5. ROC curve\n",
    "    5.6. Exporting Pickle Dump Files"
   ]
  },
  {
   "cell_type": "markdown",
   "id": "bfd091ce",
   "metadata": {},
   "source": [
    "## Introduction"
   ]
  },
  {
   "cell_type": "markdown",
   "id": "c1420b4a",
   "metadata": {},
   "source": [
    "In this checkpoint, we are going to work on the 'Financial Inclusion in Africa' dataset that was provided as part of the Financial Inclusion in Africa hosted by the Zindi platform.\n",
    "\n",
    "Dataset description: The dataset contains demographic information and what financial services are used by approximately 33,600 individuals across East Africa. The ML model role is to predict which individuals are most likely to have or use a bank account.\n",
    "\n",
    "The term financial inclusion means:  individuals and businesses have access to useful and affordable financial products and services that meet their needs – transactions, payments, savings, credit and insurance – delivered in a responsible and sustainable way."
   ]
  },
  {
   "cell_type": "markdown",
   "id": "c8e7207c",
   "metadata": {},
   "source": [
    "###### Variable Definitions\n",
    "* country: Country interviewee is in.\n",
    "* year: Year survey was done in.\n",
    "* uniqueid: Unique identifier for each interviewee\n",
    "* location_type: \"Type of location: Rural, Urban\"\n",
    "* cellphone_access: \"If interviewee has access to a cellphone: Yes, No\"\n",
    "* household_size: Number of people living in one house\n",
    "* age_of_respondent: The age of the interviewee\n",
    "* gender_of_respondent: \"Gender of interviewee: Male, Female\"\n",
    "* relationship_with_head: \"The interviewee’s relationship with the head of the house:Head of Household, Spouse, Child, Parent, Other relative, Other non-relatives, Dont know\"\n",
    "* marital_status: \"The martial status of the interviewee: Married/Living together, Divorced/Seperated, Widowed, Single/Never Married, Don’t know\"\n",
    "* education_level: \"Highest level of education: No formal education, Primary education, Secondary education, Vocational/Specialised training, Tertiary education, Other/Dont know/RTA\"\n",
    "* job_type: \"Type of job interviewee has: Farming and Fishing, Self employed, Formally employed Government, Formally employed Private, Informally employed, Remittance Dependent, Government Dependent, Other Income, No Income, Dont Know/Refuse to answer\"\n"
   ]
  },
  {
   "cell_type": "markdown",
   "id": "1ea7a940",
   "metadata": {},
   "source": [
    "## 1. Import Librairies"
   ]
  },
  {
   "cell_type": "code",
   "execution_count": 39,
   "id": "31c6afd5",
   "metadata": {},
   "outputs": [],
   "source": [
    "import numpy as np\n",
    "import pandas as pd\n",
    "import webbrowser\n",
    "import sweetviz as sv\n",
    "import ydata_profiling as ydt\n",
    "from sklearn.preprocessing import LabelEncoder\n",
    "import matplotlib.pyplot as plt\n",
    "import seaborn as sns\n",
    "from scipy import stats\n",
    "from sklearn.preprocessing import LabelEncoder\n",
    "from sklearn.model_selection import train_test_split\n",
    "from sklearn.ensemble import RandomForestClassifier, AdaBoostClassifier, GradientBoostingClassifier\n",
    "from sklearn.metrics import accuracy_score, confusion_matrix, roc_curve, auc\n",
    "import pickle\n",
    "\n",
    "\n",
    "import warnings\n",
    "warnings.simplefilter(action='ignore', category=FutureWarning)\n",
    "warnings.simplefilter(action='ignore', category=DeprecationWarning)"
   ]
  },
  {
   "cell_type": "markdown",
   "id": "338d52c4",
   "metadata": {},
   "source": [
    "## 2. Load Dataset"
   ]
  },
  {
   "cell_type": "code",
   "execution_count": 2,
   "id": "3f000aa7",
   "metadata": {},
   "outputs": [],
   "source": [
    "df = pd.read_csv(\"Financial_inclusion_dataset.csv\")"
   ]
  },
  {
   "cell_type": "code",
   "execution_count": 3,
   "id": "b640d2d3",
   "metadata": {},
   "outputs": [
    {
     "data": {
      "text/html": [
       "<style type=\"text/css\">\n",
       "#T_7f365_row0_col1, #T_7f365_row0_col6, #T_7f365_row0_col7, #T_7f365_row1_col1, #T_7f365_row2_col1, #T_7f365_row3_col1, #T_7f365_row4_col1 {\n",
       "  background-color: #f7fbff;\n",
       "  color: #000000;\n",
       "}\n",
       "#T_7f365_row1_col6, #T_7f365_row2_col6, #T_7f365_row3_col6 {\n",
       "  background-color: #94c4df;\n",
       "  color: #000000;\n",
       "}\n",
       "#T_7f365_row1_col7, #T_7f365_row4_col6 {\n",
       "  background-color: #08306b;\n",
       "  color: #f1f1f1;\n",
       "}\n",
       "#T_7f365_row2_col7, #T_7f365_row4_col7 {\n",
       "  background-color: #eef5fc;\n",
       "  color: #000000;\n",
       "}\n",
       "#T_7f365_row3_col7 {\n",
       "  background-color: #cddff1;\n",
       "  color: #000000;\n",
       "}\n",
       "</style>\n",
       "<table id=\"T_7f365\">\n",
       "  <thead>\n",
       "    <tr>\n",
       "      <th class=\"blank level0\" >&nbsp;</th>\n",
       "      <th id=\"T_7f365_level0_col0\" class=\"col_heading level0 col0\" >country</th>\n",
       "      <th id=\"T_7f365_level0_col1\" class=\"col_heading level0 col1\" >year</th>\n",
       "      <th id=\"T_7f365_level0_col2\" class=\"col_heading level0 col2\" >uniqueid</th>\n",
       "      <th id=\"T_7f365_level0_col3\" class=\"col_heading level0 col3\" >bank_account</th>\n",
       "      <th id=\"T_7f365_level0_col4\" class=\"col_heading level0 col4\" >location_type</th>\n",
       "      <th id=\"T_7f365_level0_col5\" class=\"col_heading level0 col5\" >cellphone_access</th>\n",
       "      <th id=\"T_7f365_level0_col6\" class=\"col_heading level0 col6\" >household_size</th>\n",
       "      <th id=\"T_7f365_level0_col7\" class=\"col_heading level0 col7\" >age_of_respondent</th>\n",
       "      <th id=\"T_7f365_level0_col8\" class=\"col_heading level0 col8\" >gender_of_respondent</th>\n",
       "      <th id=\"T_7f365_level0_col9\" class=\"col_heading level0 col9\" >relationship_with_head</th>\n",
       "      <th id=\"T_7f365_level0_col10\" class=\"col_heading level0 col10\" >marital_status</th>\n",
       "      <th id=\"T_7f365_level0_col11\" class=\"col_heading level0 col11\" >education_level</th>\n",
       "      <th id=\"T_7f365_level0_col12\" class=\"col_heading level0 col12\" >job_type</th>\n",
       "    </tr>\n",
       "  </thead>\n",
       "  <tbody>\n",
       "    <tr>\n",
       "      <th id=\"T_7f365_level0_row0\" class=\"row_heading level0 row0\" >0</th>\n",
       "      <td id=\"T_7f365_row0_col0\" class=\"data row0 col0\" >Kenya</td>\n",
       "      <td id=\"T_7f365_row0_col1\" class=\"data row0 col1\" >2018</td>\n",
       "      <td id=\"T_7f365_row0_col2\" class=\"data row0 col2\" >uniqueid_1</td>\n",
       "      <td id=\"T_7f365_row0_col3\" class=\"data row0 col3\" >Yes</td>\n",
       "      <td id=\"T_7f365_row0_col4\" class=\"data row0 col4\" >Rural</td>\n",
       "      <td id=\"T_7f365_row0_col5\" class=\"data row0 col5\" >Yes</td>\n",
       "      <td id=\"T_7f365_row0_col6\" class=\"data row0 col6\" >3</td>\n",
       "      <td id=\"T_7f365_row0_col7\" class=\"data row0 col7\" >24</td>\n",
       "      <td id=\"T_7f365_row0_col8\" class=\"data row0 col8\" >Female</td>\n",
       "      <td id=\"T_7f365_row0_col9\" class=\"data row0 col9\" >Spouse</td>\n",
       "      <td id=\"T_7f365_row0_col10\" class=\"data row0 col10\" >Married/Living together</td>\n",
       "      <td id=\"T_7f365_row0_col11\" class=\"data row0 col11\" >Secondary education</td>\n",
       "      <td id=\"T_7f365_row0_col12\" class=\"data row0 col12\" >Self employed</td>\n",
       "    </tr>\n",
       "    <tr>\n",
       "      <th id=\"T_7f365_level0_row1\" class=\"row_heading level0 row1\" >1</th>\n",
       "      <td id=\"T_7f365_row1_col0\" class=\"data row1 col0\" >Kenya</td>\n",
       "      <td id=\"T_7f365_row1_col1\" class=\"data row1 col1\" >2018</td>\n",
       "      <td id=\"T_7f365_row1_col2\" class=\"data row1 col2\" >uniqueid_2</td>\n",
       "      <td id=\"T_7f365_row1_col3\" class=\"data row1 col3\" >No</td>\n",
       "      <td id=\"T_7f365_row1_col4\" class=\"data row1 col4\" >Rural</td>\n",
       "      <td id=\"T_7f365_row1_col5\" class=\"data row1 col5\" >No</td>\n",
       "      <td id=\"T_7f365_row1_col6\" class=\"data row1 col6\" >5</td>\n",
       "      <td id=\"T_7f365_row1_col7\" class=\"data row1 col7\" >70</td>\n",
       "      <td id=\"T_7f365_row1_col8\" class=\"data row1 col8\" >Female</td>\n",
       "      <td id=\"T_7f365_row1_col9\" class=\"data row1 col9\" >Head of Household</td>\n",
       "      <td id=\"T_7f365_row1_col10\" class=\"data row1 col10\" >Widowed</td>\n",
       "      <td id=\"T_7f365_row1_col11\" class=\"data row1 col11\" >No formal education</td>\n",
       "      <td id=\"T_7f365_row1_col12\" class=\"data row1 col12\" >Government Dependent</td>\n",
       "    </tr>\n",
       "    <tr>\n",
       "      <th id=\"T_7f365_level0_row2\" class=\"row_heading level0 row2\" >2</th>\n",
       "      <td id=\"T_7f365_row2_col0\" class=\"data row2 col0\" >Kenya</td>\n",
       "      <td id=\"T_7f365_row2_col1\" class=\"data row2 col1\" >2018</td>\n",
       "      <td id=\"T_7f365_row2_col2\" class=\"data row2 col2\" >uniqueid_3</td>\n",
       "      <td id=\"T_7f365_row2_col3\" class=\"data row2 col3\" >Yes</td>\n",
       "      <td id=\"T_7f365_row2_col4\" class=\"data row2 col4\" >Urban</td>\n",
       "      <td id=\"T_7f365_row2_col5\" class=\"data row2 col5\" >Yes</td>\n",
       "      <td id=\"T_7f365_row2_col6\" class=\"data row2 col6\" >5</td>\n",
       "      <td id=\"T_7f365_row2_col7\" class=\"data row2 col7\" >26</td>\n",
       "      <td id=\"T_7f365_row2_col8\" class=\"data row2 col8\" >Male</td>\n",
       "      <td id=\"T_7f365_row2_col9\" class=\"data row2 col9\" >Other relative</td>\n",
       "      <td id=\"T_7f365_row2_col10\" class=\"data row2 col10\" >Single/Never Married</td>\n",
       "      <td id=\"T_7f365_row2_col11\" class=\"data row2 col11\" >Vocational/Specialised training</td>\n",
       "      <td id=\"T_7f365_row2_col12\" class=\"data row2 col12\" >Self employed</td>\n",
       "    </tr>\n",
       "    <tr>\n",
       "      <th id=\"T_7f365_level0_row3\" class=\"row_heading level0 row3\" >3</th>\n",
       "      <td id=\"T_7f365_row3_col0\" class=\"data row3 col0\" >Kenya</td>\n",
       "      <td id=\"T_7f365_row3_col1\" class=\"data row3 col1\" >2018</td>\n",
       "      <td id=\"T_7f365_row3_col2\" class=\"data row3 col2\" >uniqueid_4</td>\n",
       "      <td id=\"T_7f365_row3_col3\" class=\"data row3 col3\" >No</td>\n",
       "      <td id=\"T_7f365_row3_col4\" class=\"data row3 col4\" >Rural</td>\n",
       "      <td id=\"T_7f365_row3_col5\" class=\"data row3 col5\" >Yes</td>\n",
       "      <td id=\"T_7f365_row3_col6\" class=\"data row3 col6\" >5</td>\n",
       "      <td id=\"T_7f365_row3_col7\" class=\"data row3 col7\" >34</td>\n",
       "      <td id=\"T_7f365_row3_col8\" class=\"data row3 col8\" >Female</td>\n",
       "      <td id=\"T_7f365_row3_col9\" class=\"data row3 col9\" >Head of Household</td>\n",
       "      <td id=\"T_7f365_row3_col10\" class=\"data row3 col10\" >Married/Living together</td>\n",
       "      <td id=\"T_7f365_row3_col11\" class=\"data row3 col11\" >Primary education</td>\n",
       "      <td id=\"T_7f365_row3_col12\" class=\"data row3 col12\" >Formally employed Private</td>\n",
       "    </tr>\n",
       "    <tr>\n",
       "      <th id=\"T_7f365_level0_row4\" class=\"row_heading level0 row4\" >4</th>\n",
       "      <td id=\"T_7f365_row4_col0\" class=\"data row4 col0\" >Kenya</td>\n",
       "      <td id=\"T_7f365_row4_col1\" class=\"data row4 col1\" >2018</td>\n",
       "      <td id=\"T_7f365_row4_col2\" class=\"data row4 col2\" >uniqueid_5</td>\n",
       "      <td id=\"T_7f365_row4_col3\" class=\"data row4 col3\" >No</td>\n",
       "      <td id=\"T_7f365_row4_col4\" class=\"data row4 col4\" >Urban</td>\n",
       "      <td id=\"T_7f365_row4_col5\" class=\"data row4 col5\" >No</td>\n",
       "      <td id=\"T_7f365_row4_col6\" class=\"data row4 col6\" >8</td>\n",
       "      <td id=\"T_7f365_row4_col7\" class=\"data row4 col7\" >26</td>\n",
       "      <td id=\"T_7f365_row4_col8\" class=\"data row4 col8\" >Male</td>\n",
       "      <td id=\"T_7f365_row4_col9\" class=\"data row4 col9\" >Child</td>\n",
       "      <td id=\"T_7f365_row4_col10\" class=\"data row4 col10\" >Single/Never Married</td>\n",
       "      <td id=\"T_7f365_row4_col11\" class=\"data row4 col11\" >Primary education</td>\n",
       "      <td id=\"T_7f365_row4_col12\" class=\"data row4 col12\" >Informally employed</td>\n",
       "    </tr>\n",
       "  </tbody>\n",
       "</table>\n"
      ],
      "text/plain": [
       "<pandas.io.formats.style.Styler at 0x2d8de6db810>"
      ]
     },
     "execution_count": 3,
     "metadata": {},
     "output_type": "execute_result"
    }
   ],
   "source": [
    "# Print first 5 rows of the dataset\n",
    "df.head(5).style.background_gradient(cmap=\"Blues\")"
   ]
  },
  {
   "cell_type": "code",
   "execution_count": 4,
   "id": "f31cf999",
   "metadata": {},
   "outputs": [
    {
     "data": {
      "text/html": [
       "<style type=\"text/css\">\n",
       "#T_209dc_row0_col1, #T_209dc_row1_col1, #T_209dc_row1_col6, #T_209dc_row2_col1, #T_209dc_row3_col1, #T_209dc_row4_col1, #T_209dc_row4_col7 {\n",
       "  background-color: #f7fbff;\n",
       "  color: #000000;\n",
       "}\n",
       "#T_209dc_row0_col6, #T_209dc_row1_col7, #T_209dc_row2_col7 {\n",
       "  background-color: #c6dbef;\n",
       "  color: #000000;\n",
       "}\n",
       "#T_209dc_row0_col7, #T_209dc_row4_col6 {\n",
       "  background-color: #08306b;\n",
       "  color: #f1f1f1;\n",
       "}\n",
       "#T_209dc_row2_col6 {\n",
       "  background-color: #9dcae1;\n",
       "  color: #000000;\n",
       "}\n",
       "#T_209dc_row3_col6 {\n",
       "  background-color: #4191c6;\n",
       "  color: #f1f1f1;\n",
       "}\n",
       "#T_209dc_row3_col7 {\n",
       "  background-color: #a4cce3;\n",
       "  color: #000000;\n",
       "}\n",
       "</style>\n",
       "<table id=\"T_209dc\">\n",
       "  <thead>\n",
       "    <tr>\n",
       "      <th class=\"blank level0\" >&nbsp;</th>\n",
       "      <th id=\"T_209dc_level0_col0\" class=\"col_heading level0 col0\" >country</th>\n",
       "      <th id=\"T_209dc_level0_col1\" class=\"col_heading level0 col1\" >year</th>\n",
       "      <th id=\"T_209dc_level0_col2\" class=\"col_heading level0 col2\" >uniqueid</th>\n",
       "      <th id=\"T_209dc_level0_col3\" class=\"col_heading level0 col3\" >bank_account</th>\n",
       "      <th id=\"T_209dc_level0_col4\" class=\"col_heading level0 col4\" >location_type</th>\n",
       "      <th id=\"T_209dc_level0_col5\" class=\"col_heading level0 col5\" >cellphone_access</th>\n",
       "      <th id=\"T_209dc_level0_col6\" class=\"col_heading level0 col6\" >household_size</th>\n",
       "      <th id=\"T_209dc_level0_col7\" class=\"col_heading level0 col7\" >age_of_respondent</th>\n",
       "      <th id=\"T_209dc_level0_col8\" class=\"col_heading level0 col8\" >gender_of_respondent</th>\n",
       "      <th id=\"T_209dc_level0_col9\" class=\"col_heading level0 col9\" >relationship_with_head</th>\n",
       "      <th id=\"T_209dc_level0_col10\" class=\"col_heading level0 col10\" >marital_status</th>\n",
       "      <th id=\"T_209dc_level0_col11\" class=\"col_heading level0 col11\" >education_level</th>\n",
       "      <th id=\"T_209dc_level0_col12\" class=\"col_heading level0 col12\" >job_type</th>\n",
       "    </tr>\n",
       "  </thead>\n",
       "  <tbody>\n",
       "    <tr>\n",
       "      <th id=\"T_209dc_level0_row0\" class=\"row_heading level0 row0\" >23519</th>\n",
       "      <td id=\"T_209dc_row0_col0\" class=\"data row0 col0\" >Uganda</td>\n",
       "      <td id=\"T_209dc_row0_col1\" class=\"data row0 col1\" >2018</td>\n",
       "      <td id=\"T_209dc_row0_col2\" class=\"data row0 col2\" >uniqueid_2113</td>\n",
       "      <td id=\"T_209dc_row0_col3\" class=\"data row0 col3\" >No</td>\n",
       "      <td id=\"T_209dc_row0_col4\" class=\"data row0 col4\" >Rural</td>\n",
       "      <td id=\"T_209dc_row0_col5\" class=\"data row0 col5\" >Yes</td>\n",
       "      <td id=\"T_209dc_row0_col6\" class=\"data row0 col6\" >4</td>\n",
       "      <td id=\"T_209dc_row0_col7\" class=\"data row0 col7\" >48</td>\n",
       "      <td id=\"T_209dc_row0_col8\" class=\"data row0 col8\" >Female</td>\n",
       "      <td id=\"T_209dc_row0_col9\" class=\"data row0 col9\" >Head of Household</td>\n",
       "      <td id=\"T_209dc_row0_col10\" class=\"data row0 col10\" >Divorced/Seperated</td>\n",
       "      <td id=\"T_209dc_row0_col11\" class=\"data row0 col11\" >No formal education</td>\n",
       "      <td id=\"T_209dc_row0_col12\" class=\"data row0 col12\" >Other Income</td>\n",
       "    </tr>\n",
       "    <tr>\n",
       "      <th id=\"T_209dc_level0_row1\" class=\"row_heading level0 row1\" >23520</th>\n",
       "      <td id=\"T_209dc_row1_col0\" class=\"data row1 col0\" >Uganda</td>\n",
       "      <td id=\"T_209dc_row1_col1\" class=\"data row1 col1\" >2018</td>\n",
       "      <td id=\"T_209dc_row1_col2\" class=\"data row1 col2\" >uniqueid_2114</td>\n",
       "      <td id=\"T_209dc_row1_col3\" class=\"data row1 col3\" >No</td>\n",
       "      <td id=\"T_209dc_row1_col4\" class=\"data row1 col4\" >Rural</td>\n",
       "      <td id=\"T_209dc_row1_col5\" class=\"data row1 col5\" >Yes</td>\n",
       "      <td id=\"T_209dc_row1_col6\" class=\"data row1 col6\" >2</td>\n",
       "      <td id=\"T_209dc_row1_col7\" class=\"data row1 col7\" >27</td>\n",
       "      <td id=\"T_209dc_row1_col8\" class=\"data row1 col8\" >Female</td>\n",
       "      <td id=\"T_209dc_row1_col9\" class=\"data row1 col9\" >Head of Household</td>\n",
       "      <td id=\"T_209dc_row1_col10\" class=\"data row1 col10\" >Single/Never Married</td>\n",
       "      <td id=\"T_209dc_row1_col11\" class=\"data row1 col11\" >Secondary education</td>\n",
       "      <td id=\"T_209dc_row1_col12\" class=\"data row1 col12\" >Other Income</td>\n",
       "    </tr>\n",
       "    <tr>\n",
       "      <th id=\"T_209dc_level0_row2\" class=\"row_heading level0 row2\" >23521</th>\n",
       "      <td id=\"T_209dc_row2_col0\" class=\"data row2 col0\" >Uganda</td>\n",
       "      <td id=\"T_209dc_row2_col1\" class=\"data row2 col1\" >2018</td>\n",
       "      <td id=\"T_209dc_row2_col2\" class=\"data row2 col2\" >uniqueid_2115</td>\n",
       "      <td id=\"T_209dc_row2_col3\" class=\"data row2 col3\" >No</td>\n",
       "      <td id=\"T_209dc_row2_col4\" class=\"data row2 col4\" >Rural</td>\n",
       "      <td id=\"T_209dc_row2_col5\" class=\"data row2 col5\" >Yes</td>\n",
       "      <td id=\"T_209dc_row2_col6\" class=\"data row2 col6\" >5</td>\n",
       "      <td id=\"T_209dc_row2_col7\" class=\"data row2 col7\" >27</td>\n",
       "      <td id=\"T_209dc_row2_col8\" class=\"data row2 col8\" >Female</td>\n",
       "      <td id=\"T_209dc_row2_col9\" class=\"data row2 col9\" >Parent</td>\n",
       "      <td id=\"T_209dc_row2_col10\" class=\"data row2 col10\" >Widowed</td>\n",
       "      <td id=\"T_209dc_row2_col11\" class=\"data row2 col11\" >Primary education</td>\n",
       "      <td id=\"T_209dc_row2_col12\" class=\"data row2 col12\" >Other Income</td>\n",
       "    </tr>\n",
       "    <tr>\n",
       "      <th id=\"T_209dc_level0_row3\" class=\"row_heading level0 row3\" >23522</th>\n",
       "      <td id=\"T_209dc_row3_col0\" class=\"data row3 col0\" >Uganda</td>\n",
       "      <td id=\"T_209dc_row3_col1\" class=\"data row3 col1\" >2018</td>\n",
       "      <td id=\"T_209dc_row3_col2\" class=\"data row3 col2\" >uniqueid_2116</td>\n",
       "      <td id=\"T_209dc_row3_col3\" class=\"data row3 col3\" >No</td>\n",
       "      <td id=\"T_209dc_row3_col4\" class=\"data row3 col4\" >Urban</td>\n",
       "      <td id=\"T_209dc_row3_col5\" class=\"data row3 col5\" >Yes</td>\n",
       "      <td id=\"T_209dc_row3_col6\" class=\"data row3 col6\" >7</td>\n",
       "      <td id=\"T_209dc_row3_col7\" class=\"data row3 col7\" >30</td>\n",
       "      <td id=\"T_209dc_row3_col8\" class=\"data row3 col8\" >Female</td>\n",
       "      <td id=\"T_209dc_row3_col9\" class=\"data row3 col9\" >Parent</td>\n",
       "      <td id=\"T_209dc_row3_col10\" class=\"data row3 col10\" >Divorced/Seperated</td>\n",
       "      <td id=\"T_209dc_row3_col11\" class=\"data row3 col11\" >Secondary education</td>\n",
       "      <td id=\"T_209dc_row3_col12\" class=\"data row3 col12\" >Self employed</td>\n",
       "    </tr>\n",
       "    <tr>\n",
       "      <th id=\"T_209dc_level0_row4\" class=\"row_heading level0 row4\" >23523</th>\n",
       "      <td id=\"T_209dc_row4_col0\" class=\"data row4 col0\" >Uganda</td>\n",
       "      <td id=\"T_209dc_row4_col1\" class=\"data row4 col1\" >2018</td>\n",
       "      <td id=\"T_209dc_row4_col2\" class=\"data row4 col2\" >uniqueid_2117</td>\n",
       "      <td id=\"T_209dc_row4_col3\" class=\"data row4 col3\" >No</td>\n",
       "      <td id=\"T_209dc_row4_col4\" class=\"data row4 col4\" >Rural</td>\n",
       "      <td id=\"T_209dc_row4_col5\" class=\"data row4 col5\" >Yes</td>\n",
       "      <td id=\"T_209dc_row4_col6\" class=\"data row4 col6\" >10</td>\n",
       "      <td id=\"T_209dc_row4_col7\" class=\"data row4 col7\" >20</td>\n",
       "      <td id=\"T_209dc_row4_col8\" class=\"data row4 col8\" >Male</td>\n",
       "      <td id=\"T_209dc_row4_col9\" class=\"data row4 col9\" >Child</td>\n",
       "      <td id=\"T_209dc_row4_col10\" class=\"data row4 col10\" >Single/Never Married</td>\n",
       "      <td id=\"T_209dc_row4_col11\" class=\"data row4 col11\" >Secondary education</td>\n",
       "      <td id=\"T_209dc_row4_col12\" class=\"data row4 col12\" >No Income</td>\n",
       "    </tr>\n",
       "  </tbody>\n",
       "</table>\n"
      ],
      "text/plain": [
       "<pandas.io.formats.style.Styler at 0x2d8deccd890>"
      ]
     },
     "execution_count": 4,
     "metadata": {},
     "output_type": "execute_result"
    }
   ],
   "source": [
    "# Print first 5 rows of the dataset\n",
    "df.tail(5).style.background_gradient(cmap=\"Blues\")"
   ]
  },
  {
   "cell_type": "markdown",
   "id": "3efe90a8",
   "metadata": {},
   "source": [
    "## 3. Exploratory Data Analysis"
   ]
  },
  {
   "cell_type": "markdown",
   "id": "3eef5f90",
   "metadata": {},
   "source": [
    "### 3.1. Columns of the dataset"
   ]
  },
  {
   "cell_type": "code",
   "execution_count": 5,
   "id": "83c7c546",
   "metadata": {},
   "outputs": [
    {
     "data": {
      "text/html": [
       "<style type=\"text/css\">\n",
       "#T_3f9f0_row0_col0, #T_3f9f0_row0_col2, #T_3f9f0_row1_col0, #T_3f9f0_row1_col1, #T_3f9f0_row1_col3, #T_3f9f0_row1_col4, #T_3f9f0_row1_col5, #T_3f9f0_row1_col6, #T_3f9f0_row1_col7, #T_3f9f0_row2_col0 {\n",
       "  background-color: #f7fcf5;\n",
       "  color: #000000;\n",
       "}\n",
       "#T_3f9f0_row0_col1, #T_3f9f0_row0_col3, #T_3f9f0_row0_col4, #T_3f9f0_row0_col5, #T_3f9f0_row0_col6, #T_3f9f0_row0_col7, #T_3f9f0_row2_col2 {\n",
       "  background-color: #00441b;\n",
       "  color: #f1f1f1;\n",
       "}\n",
       "#T_3f9f0_row1_col2 {\n",
       "  background-color: #ebf7e7;\n",
       "  color: #000000;\n",
       "}\n",
       "#T_3f9f0_row2_col1, #T_3f9f0_row2_col5 {\n",
       "  background-color: #f5fbf2;\n",
       "  color: #000000;\n",
       "}\n",
       "#T_3f9f0_row2_col3 {\n",
       "  background-color: #f6fcf4;\n",
       "  color: #000000;\n",
       "}\n",
       "#T_3f9f0_row2_col4 {\n",
       "  background-color: #f5fbf3;\n",
       "  color: #000000;\n",
       "}\n",
       "#T_3f9f0_row2_col6 {\n",
       "  background-color: #f4fbf2;\n",
       "  color: #000000;\n",
       "}\n",
       "#T_3f9f0_row2_col7 {\n",
       "  background-color: #f1faee;\n",
       "  color: #000000;\n",
       "}\n",
       "</style>\n",
       "<table id=\"T_3f9f0\">\n",
       "  <thead>\n",
       "    <tr>\n",
       "      <th class=\"blank level0\" >&nbsp;</th>\n",
       "      <th id=\"T_3f9f0_level0_col0\" class=\"col_heading level0 col0\" >count</th>\n",
       "      <th id=\"T_3f9f0_level0_col1\" class=\"col_heading level0 col1\" >mean</th>\n",
       "      <th id=\"T_3f9f0_level0_col2\" class=\"col_heading level0 col2\" >std</th>\n",
       "      <th id=\"T_3f9f0_level0_col3\" class=\"col_heading level0 col3\" >min</th>\n",
       "      <th id=\"T_3f9f0_level0_col4\" class=\"col_heading level0 col4\" >25%</th>\n",
       "      <th id=\"T_3f9f0_level0_col5\" class=\"col_heading level0 col5\" >50%</th>\n",
       "      <th id=\"T_3f9f0_level0_col6\" class=\"col_heading level0 col6\" >75%</th>\n",
       "      <th id=\"T_3f9f0_level0_col7\" class=\"col_heading level0 col7\" >max</th>\n",
       "    </tr>\n",
       "  </thead>\n",
       "  <tbody>\n",
       "    <tr>\n",
       "      <th id=\"T_3f9f0_level0_row0\" class=\"row_heading level0 row0\" >year</th>\n",
       "      <td id=\"T_3f9f0_row0_col0\" class=\"data row0 col0\" >23524.000000</td>\n",
       "      <td id=\"T_3f9f0_row0_col1\" class=\"data row0 col1\" >2016.975939</td>\n",
       "      <td id=\"T_3f9f0_row0_col2\" class=\"data row0 col2\" >0.847371</td>\n",
       "      <td id=\"T_3f9f0_row0_col3\" class=\"data row0 col3\" >2016.000000</td>\n",
       "      <td id=\"T_3f9f0_row0_col4\" class=\"data row0 col4\" >2016.000000</td>\n",
       "      <td id=\"T_3f9f0_row0_col5\" class=\"data row0 col5\" >2017.000000</td>\n",
       "      <td id=\"T_3f9f0_row0_col6\" class=\"data row0 col6\" >2018.000000</td>\n",
       "      <td id=\"T_3f9f0_row0_col7\" class=\"data row0 col7\" >2018.000000</td>\n",
       "    </tr>\n",
       "    <tr>\n",
       "      <th id=\"T_3f9f0_level0_row1\" class=\"row_heading level0 row1\" >household_size</th>\n",
       "      <td id=\"T_3f9f0_row1_col0\" class=\"data row1 col0\" >23524.000000</td>\n",
       "      <td id=\"T_3f9f0_row1_col1\" class=\"data row1 col1\" >3.797483</td>\n",
       "      <td id=\"T_3f9f0_row1_col2\" class=\"data row1 col2\" >2.227613</td>\n",
       "      <td id=\"T_3f9f0_row1_col3\" class=\"data row1 col3\" >1.000000</td>\n",
       "      <td id=\"T_3f9f0_row1_col4\" class=\"data row1 col4\" >2.000000</td>\n",
       "      <td id=\"T_3f9f0_row1_col5\" class=\"data row1 col5\" >3.000000</td>\n",
       "      <td id=\"T_3f9f0_row1_col6\" class=\"data row1 col6\" >5.000000</td>\n",
       "      <td id=\"T_3f9f0_row1_col7\" class=\"data row1 col7\" >21.000000</td>\n",
       "    </tr>\n",
       "    <tr>\n",
       "      <th id=\"T_3f9f0_level0_row2\" class=\"row_heading level0 row2\" >age_of_respondent</th>\n",
       "      <td id=\"T_3f9f0_row2_col0\" class=\"data row2 col0\" >23524.000000</td>\n",
       "      <td id=\"T_3f9f0_row2_col1\" class=\"data row2 col1\" >38.805220</td>\n",
       "      <td id=\"T_3f9f0_row2_col2\" class=\"data row2 col2\" >16.520569</td>\n",
       "      <td id=\"T_3f9f0_row2_col3\" class=\"data row2 col3\" >16.000000</td>\n",
       "      <td id=\"T_3f9f0_row2_col4\" class=\"data row2 col4\" >26.000000</td>\n",
       "      <td id=\"T_3f9f0_row2_col5\" class=\"data row2 col5\" >35.000000</td>\n",
       "      <td id=\"T_3f9f0_row2_col6\" class=\"data row2 col6\" >49.000000</td>\n",
       "      <td id=\"T_3f9f0_row2_col7\" class=\"data row2 col7\" >100.000000</td>\n",
       "    </tr>\n",
       "  </tbody>\n",
       "</table>\n"
      ],
      "text/plain": [
       "<pandas.io.formats.style.Styler at 0x2d8de71d6d0>"
      ]
     },
     "execution_count": 5,
     "metadata": {},
     "output_type": "execute_result"
    }
   ],
   "source": [
    "# Give statistical information about numerical columns in the DataFrame\n",
    "df.describe().T.style.background_gradient(cmap=\"Greens\")"
   ]
  },
  {
   "cell_type": "code",
   "execution_count": 6,
   "id": "3964d4f3",
   "metadata": {},
   "outputs": [
    {
     "name": "stdout",
     "output_type": "stream",
     "text": [
      "<class 'pandas.core.frame.DataFrame'>\n",
      "RangeIndex: 23524 entries, 0 to 23523\n",
      "Data columns (total 13 columns):\n",
      " #   Column                  Non-Null Count  Dtype \n",
      "---  ------                  --------------  ----- \n",
      " 0   country                 23524 non-null  object\n",
      " 1   year                    23524 non-null  int64 \n",
      " 2   uniqueid                23524 non-null  object\n",
      " 3   bank_account            23524 non-null  object\n",
      " 4   location_type           23524 non-null  object\n",
      " 5   cellphone_access        23524 non-null  object\n",
      " 6   household_size          23524 non-null  int64 \n",
      " 7   age_of_respondent       23524 non-null  int64 \n",
      " 8   gender_of_respondent    23524 non-null  object\n",
      " 9   relationship_with_head  23524 non-null  object\n",
      " 10  marital_status          23524 non-null  object\n",
      " 11  education_level         23524 non-null  object\n",
      " 12  job_type                23524 non-null  object\n",
      "dtypes: int64(3), object(10)\n",
      "memory usage: 2.3+ MB\n"
     ]
    }
   ],
   "source": [
    "# Give information such as number of rows, columns, column data types, non-null values etc.\n",
    "df.info()"
   ]
  },
  {
   "cell_type": "code",
   "execution_count": 7,
   "id": "b09f7e01",
   "metadata": {},
   "outputs": [
    {
     "data": {
      "text/plain": [
       "country                      4\n",
       "year                         3\n",
       "uniqueid                  8735\n",
       "bank_account                 2\n",
       "location_type                2\n",
       "cellphone_access             2\n",
       "household_size              20\n",
       "age_of_respondent           85\n",
       "gender_of_respondent         2\n",
       "relationship_with_head       6\n",
       "marital_status               5\n",
       "education_level              6\n",
       "job_type                    10\n",
       "dtype: int64"
      ]
     },
     "execution_count": 7,
     "metadata": {},
     "output_type": "execute_result"
    }
   ],
   "source": [
    "# Numbers of unique values\n",
    "df.nunique()"
   ]
  },
  {
   "cell_type": "markdown",
   "id": "97e96a25",
   "metadata": {},
   "source": [
    "### 3.2. Preliminary Reports"
   ]
  },
  {
   "cell_type": "code",
   "execution_count": 8,
   "id": "ab7e754c",
   "metadata": {},
   "outputs": [
    {
     "data": {
      "application/vnd.jupyter.widget-view+json": {
       "model_id": "2620b3b0e7954944b1a489176596e9a7",
       "version_major": 2,
       "version_minor": 0
      },
      "text/plain": [
       "                                             |                                                                …"
      ]
     },
     "metadata": {},
     "output_type": "display_data"
    },
    {
     "name": "stdout",
     "output_type": "stream",
     "text": [
      "Report SWEETVIZ_REPORT.html was generated! NOTEBOOK/COLAB USERS: the web browser MAY not pop up, regardless, the report IS saved in your notebook/colab files.\n"
     ]
    }
   ],
   "source": [
    "# Create a Preliminary DataViz report to gain insights into the dataset\n",
    "my_report = sv.analyze(df)\n",
    "my_report.show_html()"
   ]
  },
  {
   "cell_type": "code",
   "execution_count": 9,
   "id": "59dc26ba",
   "metadata": {},
   "outputs": [
    {
     "data": {
      "application/vnd.jupyter.widget-view+json": {
       "model_id": "d53eac6cc58a4bdab50887fbb17bd2bb",
       "version_major": 2,
       "version_minor": 0
      },
      "text/plain": [
       "Summarize dataset:   0%|          | 0/5 [00:00<?, ?it/s]"
      ]
     },
     "metadata": {},
     "output_type": "display_data"
    },
    {
     "data": {
      "application/vnd.jupyter.widget-view+json": {
       "model_id": "f824769fd4c4495e99928c158b4d30a0",
       "version_major": 2,
       "version_minor": 0
      },
      "text/plain": [
       "Generate report structure:   0%|          | 0/1 [00:00<?, ?it/s]"
      ]
     },
     "metadata": {},
     "output_type": "display_data"
    },
    {
     "data": {
      "application/vnd.jupyter.widget-view+json": {
       "model_id": "27204f8eccbc4784a0a2236a66982abb",
       "version_major": 2,
       "version_minor": 0
      },
      "text/plain": [
       "Render HTML:   0%|          | 0/1 [00:00<?, ?it/s]"
      ]
     },
     "metadata": {},
     "output_type": "display_data"
    },
    {
     "data": {
      "application/vnd.jupyter.widget-view+json": {
       "model_id": "e56534229aaf4fa1992301299bae9ba3",
       "version_major": 2,
       "version_minor": 0
      },
      "text/plain": [
       "Export report to file:   0%|          | 0/1 [00:00<?, ?it/s]"
      ]
     },
     "metadata": {},
     "output_type": "display_data"
    },
    {
     "data": {
      "text/plain": [
       "True"
      ]
     },
     "execution_count": 9,
     "metadata": {},
     "output_type": "execute_result"
    }
   ],
   "source": [
    "# Create a Preliminary pandas profiling report to gain insights into the dataset\n",
    "profile = ydt.ProfileReport(df)\n",
    "profile.to_file(\"YDT_REPORT.html\")\n",
    "webbrowser.open_new('file://C:/Users/rhili/YDT_REPORT.html')"
   ]
  },
  {
   "cell_type": "markdown",
   "id": "ee77fc01",
   "metadata": {},
   "source": [
    "## 4. Data Preprocessing"
   ]
  },
  {
   "cell_type": "markdown",
   "id": "d8a588d7",
   "metadata": {},
   "source": [
    "### 4.1. Data Cleaning"
   ]
  },
  {
   "cell_type": "markdown",
   "id": "5da3e04d",
   "metadata": {},
   "source": [
    "##### Handling Missing Values"
   ]
  },
  {
   "cell_type": "code",
   "execution_count": 10,
   "id": "0ceb00d4",
   "metadata": {},
   "outputs": [
    {
     "data": {
      "text/plain": [
       "country                   0\n",
       "year                      0\n",
       "uniqueid                  0\n",
       "bank_account              0\n",
       "location_type             0\n",
       "cellphone_access          0\n",
       "household_size            0\n",
       "age_of_respondent         0\n",
       "gender_of_respondent      0\n",
       "relationship_with_head    0\n",
       "marital_status            0\n",
       "education_level           0\n",
       "job_type                  0\n",
       "dtype: int64"
      ]
     },
     "execution_count": 10,
     "metadata": {},
     "output_type": "execute_result"
    }
   ],
   "source": [
    "# Check for missing values\n",
    "df.isnull().sum()"
   ]
  },
  {
   "cell_type": "markdown",
   "id": "9970ea92",
   "metadata": {},
   "source": [
    "##### Handling Duplicates"
   ]
  },
  {
   "cell_type": "code",
   "execution_count": 11,
   "id": "95beedd8",
   "metadata": {},
   "outputs": [
    {
     "data": {
      "text/plain": [
       "0"
      ]
     },
     "execution_count": 11,
     "metadata": {},
     "output_type": "execute_result"
    }
   ],
   "source": [
    "# Check for duplicate values\n",
    "df.duplicated().sum()"
   ]
  },
  {
   "cell_type": "markdown",
   "id": "db559d4d",
   "metadata": {},
   "source": [
    "### 4.2. Feature Engineering"
   ]
  },
  {
   "cell_type": "code",
   "execution_count": 12,
   "id": "4a680f23",
   "metadata": {},
   "outputs": [
    {
     "data": {
      "text/plain": [
       "country                      4\n",
       "year                         3\n",
       "uniqueid                  8735\n",
       "bank_account                 2\n",
       "location_type                2\n",
       "cellphone_access             2\n",
       "household_size              20\n",
       "age_of_respondent           85\n",
       "gender_of_respondent         2\n",
       "relationship_with_head       6\n",
       "marital_status               5\n",
       "education_level              6\n",
       "job_type                    10\n",
       "dtype: int64"
      ]
     },
     "execution_count": 12,
     "metadata": {},
     "output_type": "execute_result"
    }
   ],
   "source": [
    "df.nunique()"
   ]
  },
  {
   "cell_type": "code",
   "execution_count": 13,
   "id": "35f32ff3",
   "metadata": {},
   "outputs": [],
   "source": [
    "df = df.drop('uniqueid', axis=1)"
   ]
  },
  {
   "cell_type": "code",
   "execution_count": 14,
   "id": "e09ccab1",
   "metadata": {},
   "outputs": [],
   "source": [
    "# Creating Encoding dictionaries for Binary Data\n",
    "encoding_yesno = {'Yes':1, 'No':0}\n",
    "encoding_location = {'Urban':0, 'Rural':1}\n",
    "encoding_gender = {'Male':0, 'Female':1}"
   ]
  },
  {
   "cell_type": "code",
   "execution_count": 15,
   "id": "37994236",
   "metadata": {},
   "outputs": [],
   "source": [
    "# LabelEncoding on Categorical Features\n",
    "le_country = LabelEncoder()\n",
    "le_relationship_with_head = LabelEncoder()\n",
    "le_marital_status = LabelEncoder()\n",
    "le_education_level = LabelEncoder()\n",
    "le_job_type = LabelEncoder()\n",
    "\n",
    "df['country'] = le_country.fit_transform(df['country'])\n",
    "df['bank_account'] = df['bank_account'].map(encoding_yesno)\n",
    "df['location_type'] = df['location_type'].map(encoding_location)\n",
    "df['cellphone_access'] = df['cellphone_access'].map(encoding_yesno)\n",
    "df['gender_of_respondent'] = df['gender_of_respondent'].map(encoding_gender)\n",
    "df['relationship_with_head'] = le_relationship_with_head.fit_transform(df['relationship_with_head'])\n",
    "df['marital_status'] = le_marital_status.fit_transform(df['marital_status'])\n",
    "df['education_level'] = le_education_level.fit_transform(df['education_level'])\n",
    "df['job_type'] = le_job_type.fit_transform(df['job_type'])"
   ]
  },
  {
   "cell_type": "code",
   "execution_count": 16,
   "id": "ba44b0e2",
   "metadata": {
    "scrolled": false
   },
   "outputs": [
    {
     "data": {
      "text/html": [
       "<div>\n",
       "<style scoped>\n",
       "    .dataframe tbody tr th:only-of-type {\n",
       "        vertical-align: middle;\n",
       "    }\n",
       "\n",
       "    .dataframe tbody tr th {\n",
       "        vertical-align: top;\n",
       "    }\n",
       "\n",
       "    .dataframe thead th {\n",
       "        text-align: right;\n",
       "    }\n",
       "</style>\n",
       "<table border=\"1\" class=\"dataframe\">\n",
       "  <thead>\n",
       "    <tr style=\"text-align: right;\">\n",
       "      <th></th>\n",
       "      <th>country</th>\n",
       "      <th>year</th>\n",
       "      <th>bank_account</th>\n",
       "      <th>location_type</th>\n",
       "      <th>cellphone_access</th>\n",
       "      <th>household_size</th>\n",
       "      <th>age_of_respondent</th>\n",
       "      <th>gender_of_respondent</th>\n",
       "      <th>relationship_with_head</th>\n",
       "      <th>marital_status</th>\n",
       "      <th>education_level</th>\n",
       "      <th>job_type</th>\n",
       "    </tr>\n",
       "  </thead>\n",
       "  <tbody>\n",
       "    <tr>\n",
       "      <th>0</th>\n",
       "      <td>0</td>\n",
       "      <td>2018</td>\n",
       "      <td>1</td>\n",
       "      <td>1</td>\n",
       "      <td>1</td>\n",
       "      <td>3</td>\n",
       "      <td>24</td>\n",
       "      <td>1</td>\n",
       "      <td>5</td>\n",
       "      <td>2</td>\n",
       "      <td>3</td>\n",
       "      <td>9</td>\n",
       "    </tr>\n",
       "    <tr>\n",
       "      <th>1</th>\n",
       "      <td>0</td>\n",
       "      <td>2018</td>\n",
       "      <td>0</td>\n",
       "      <td>1</td>\n",
       "      <td>0</td>\n",
       "      <td>5</td>\n",
       "      <td>70</td>\n",
       "      <td>1</td>\n",
       "      <td>1</td>\n",
       "      <td>4</td>\n",
       "      <td>0</td>\n",
       "      <td>4</td>\n",
       "    </tr>\n",
       "    <tr>\n",
       "      <th>2</th>\n",
       "      <td>0</td>\n",
       "      <td>2018</td>\n",
       "      <td>1</td>\n",
       "      <td>0</td>\n",
       "      <td>1</td>\n",
       "      <td>5</td>\n",
       "      <td>26</td>\n",
       "      <td>0</td>\n",
       "      <td>3</td>\n",
       "      <td>3</td>\n",
       "      <td>5</td>\n",
       "      <td>9</td>\n",
       "    </tr>\n",
       "    <tr>\n",
       "      <th>3</th>\n",
       "      <td>0</td>\n",
       "      <td>2018</td>\n",
       "      <td>0</td>\n",
       "      <td>1</td>\n",
       "      <td>1</td>\n",
       "      <td>5</td>\n",
       "      <td>34</td>\n",
       "      <td>1</td>\n",
       "      <td>1</td>\n",
       "      <td>2</td>\n",
       "      <td>2</td>\n",
       "      <td>3</td>\n",
       "    </tr>\n",
       "    <tr>\n",
       "      <th>4</th>\n",
       "      <td>0</td>\n",
       "      <td>2018</td>\n",
       "      <td>0</td>\n",
       "      <td>0</td>\n",
       "      <td>0</td>\n",
       "      <td>8</td>\n",
       "      <td>26</td>\n",
       "      <td>0</td>\n",
       "      <td>0</td>\n",
       "      <td>3</td>\n",
       "      <td>2</td>\n",
       "      <td>5</td>\n",
       "    </tr>\n",
       "    <tr>\n",
       "      <th>...</th>\n",
       "      <td>...</td>\n",
       "      <td>...</td>\n",
       "      <td>...</td>\n",
       "      <td>...</td>\n",
       "      <td>...</td>\n",
       "      <td>...</td>\n",
       "      <td>...</td>\n",
       "      <td>...</td>\n",
       "      <td>...</td>\n",
       "      <td>...</td>\n",
       "      <td>...</td>\n",
       "      <td>...</td>\n",
       "    </tr>\n",
       "    <tr>\n",
       "      <th>23519</th>\n",
       "      <td>3</td>\n",
       "      <td>2018</td>\n",
       "      <td>0</td>\n",
       "      <td>1</td>\n",
       "      <td>1</td>\n",
       "      <td>4</td>\n",
       "      <td>48</td>\n",
       "      <td>1</td>\n",
       "      <td>1</td>\n",
       "      <td>0</td>\n",
       "      <td>0</td>\n",
       "      <td>7</td>\n",
       "    </tr>\n",
       "    <tr>\n",
       "      <th>23520</th>\n",
       "      <td>3</td>\n",
       "      <td>2018</td>\n",
       "      <td>0</td>\n",
       "      <td>1</td>\n",
       "      <td>1</td>\n",
       "      <td>2</td>\n",
       "      <td>27</td>\n",
       "      <td>1</td>\n",
       "      <td>1</td>\n",
       "      <td>3</td>\n",
       "      <td>3</td>\n",
       "      <td>7</td>\n",
       "    </tr>\n",
       "    <tr>\n",
       "      <th>23521</th>\n",
       "      <td>3</td>\n",
       "      <td>2018</td>\n",
       "      <td>0</td>\n",
       "      <td>1</td>\n",
       "      <td>1</td>\n",
       "      <td>5</td>\n",
       "      <td>27</td>\n",
       "      <td>1</td>\n",
       "      <td>4</td>\n",
       "      <td>4</td>\n",
       "      <td>2</td>\n",
       "      <td>7</td>\n",
       "    </tr>\n",
       "    <tr>\n",
       "      <th>23522</th>\n",
       "      <td>3</td>\n",
       "      <td>2018</td>\n",
       "      <td>0</td>\n",
       "      <td>0</td>\n",
       "      <td>1</td>\n",
       "      <td>7</td>\n",
       "      <td>30</td>\n",
       "      <td>1</td>\n",
       "      <td>4</td>\n",
       "      <td>0</td>\n",
       "      <td>3</td>\n",
       "      <td>9</td>\n",
       "    </tr>\n",
       "    <tr>\n",
       "      <th>23523</th>\n",
       "      <td>3</td>\n",
       "      <td>2018</td>\n",
       "      <td>0</td>\n",
       "      <td>1</td>\n",
       "      <td>1</td>\n",
       "      <td>10</td>\n",
       "      <td>20</td>\n",
       "      <td>0</td>\n",
       "      <td>0</td>\n",
       "      <td>3</td>\n",
       "      <td>3</td>\n",
       "      <td>6</td>\n",
       "    </tr>\n",
       "  </tbody>\n",
       "</table>\n",
       "<p>23524 rows × 12 columns</p>\n",
       "</div>"
      ],
      "text/plain": [
       "       country  year  bank_account  location_type  cellphone_access  \\\n",
       "0            0  2018             1              1                 1   \n",
       "1            0  2018             0              1                 0   \n",
       "2            0  2018             1              0                 1   \n",
       "3            0  2018             0              1                 1   \n",
       "4            0  2018             0              0                 0   \n",
       "...        ...   ...           ...            ...               ...   \n",
       "23519        3  2018             0              1                 1   \n",
       "23520        3  2018             0              1                 1   \n",
       "23521        3  2018             0              1                 1   \n",
       "23522        3  2018             0              0                 1   \n",
       "23523        3  2018             0              1                 1   \n",
       "\n",
       "       household_size  age_of_respondent  gender_of_respondent  \\\n",
       "0                   3                 24                     1   \n",
       "1                   5                 70                     1   \n",
       "2                   5                 26                     0   \n",
       "3                   5                 34                     1   \n",
       "4                   8                 26                     0   \n",
       "...               ...                ...                   ...   \n",
       "23519               4                 48                     1   \n",
       "23520               2                 27                     1   \n",
       "23521               5                 27                     1   \n",
       "23522               7                 30                     1   \n",
       "23523              10                 20                     0   \n",
       "\n",
       "       relationship_with_head  marital_status  education_level  job_type  \n",
       "0                           5               2                3         9  \n",
       "1                           1               4                0         4  \n",
       "2                           3               3                5         9  \n",
       "3                           1               2                2         3  \n",
       "4                           0               3                2         5  \n",
       "...                       ...             ...              ...       ...  \n",
       "23519                       1               0                0         7  \n",
       "23520                       1               3                3         7  \n",
       "23521                       4               4                2         7  \n",
       "23522                       4               0                3         9  \n",
       "23523                       0               3                3         6  \n",
       "\n",
       "[23524 rows x 12 columns]"
      ]
     },
     "execution_count": 16,
     "metadata": {},
     "output_type": "execute_result"
    }
   ],
   "source": [
    "df"
   ]
  },
  {
   "cell_type": "markdown",
   "id": "17cc95f6",
   "metadata": {},
   "source": [
    "### 4.3. Handling Outliers"
   ]
  },
  {
   "cell_type": "code",
   "execution_count": 17,
   "id": "3ea57549",
   "metadata": {
    "scrolled": true
   },
   "outputs": [
    {
     "data": {
      "image/png": "[encoded data removed]",
      "text/plain": [
       "<Figure size 500x1200 with 12 Axes>"
      ]
     },
     "metadata": {},
     "output_type": "display_data"
    }
   ],
   "source": [
    "# Create a boxplot with subplots\n",
    "\n",
    "columns = df.columns\n",
    "\n",
    "fig, axs = plt.subplots(len(columns), figsize=(5,len(columns)))\n",
    "\n",
    "for i, column in enumerate(columns) :\n",
    "    sns.boxplot(x=df[column], width=0.5, ax=axs[i])\n",
    "\n",
    "plt.tight_layout()\n",
    "plt.show()"
   ]
  },
  {
   "cell_type": "code",
   "execution_count": 26,
   "id": "caf31e44",
   "metadata": {},
   "outputs": [],
   "source": [
    "# Delete Rows where 'age_of_respondent' > 85 OR 'household_size' >9\n",
    "df = df[(df['age_of_respondent'] <= 85) & (df['household_size'] <= 9)]"
   ]
  },
  {
   "cell_type": "code",
   "execution_count": 27,
   "id": "48efefb3",
   "metadata": {},
   "outputs": [],
   "source": [
    "df = df.reset_index(drop=True)"
   ]
  },
  {
   "cell_type": "code",
   "execution_count": 29,
   "id": "d5650a4e",
   "metadata": {
    "scrolled": true
   },
   "outputs": [
    {
     "data": {
      "image/png": "[encoded data removed]",
      "text/plain": [
       "<Figure size 500x1200 with 12 Axes>"
      ]
     },
     "metadata": {},
     "output_type": "display_data"
    }
   ],
   "source": [
    "# Re-Create the boxplot to \n",
    "\n",
    "columns = df.columns\n",
    "\n",
    "fig, axs = plt.subplots(len(columns), figsize=(5,len(columns)))\n",
    "\n",
    "for i, column in enumerate(columns) :\n",
    "    sns.boxplot(x=df[column], width=0.5, ax=axs[i])\n",
    "\n",
    "plt.tight_layout()\n",
    "plt.show()"
   ]
  },
  {
   "cell_type": "markdown",
   "id": "b0cf7312",
   "metadata": {},
   "source": [
    "## 5. Building the Model"
   ]
  },
  {
   "cell_type": "markdown",
   "id": "ed4fe05d",
   "metadata": {},
   "source": [
    "### 5.1. Split the dataset"
   ]
  },
  {
   "cell_type": "code",
   "execution_count": 30,
   "id": "63f5804a",
   "metadata": {},
   "outputs": [],
   "source": [
    "# Defining Features and Target variables\n",
    "X = df.drop('bank_account', axis=1)\n",
    "y = df['bank_account']\n",
    "\n",
    "# Split the data into training and test sets\n",
    "X_train, X_test, y_train, y_test = train_test_split(X, y, test_size=0.2, random_state=42)"
   ]
  },
  {
   "cell_type": "markdown",
   "id": "1dd5a17d",
   "metadata": {},
   "source": [
    "### 5.2. RandomForestClassifier"
   ]
  },
  {
   "cell_type": "code",
   "execution_count": 37,
   "id": "7eea2336",
   "metadata": {},
   "outputs": [
    {
     "name": "stdout",
     "output_type": "stream",
     "text": [
      "score:0.8716275021758051\n",
      "Confusion Matrix:\n",
      " [[3740  219]\n",
      " [ 371  266]]\n"
     ]
    }
   ],
   "source": [
    "# Apply Random Forest Classifier\n",
    "# Create a classifier\n",
    "rfc = RandomForestClassifier()\n",
    "\n",
    "# Train the model using the training sets\n",
    "rfc.fit(X_train, y_train)\n",
    "\n",
    "# Predict the response for test dataset\n",
    "y_pred = clf.predict(X_test)\n",
    "\n",
    "# Assess model performance\n",
    "print(\"score:{}\".format(accuracy_score(y_test, y_pred)))\n",
    "print(\"Confusion Matrix:\\n\", confusion_matrix(y_test, y_pred))"
   ]
  },
  {
   "cell_type": "markdown",
   "id": "20c09d39",
   "metadata": {},
   "source": [
    "### 5.3. AdaBoostClassifier"
   ]
  },
  {
   "cell_type": "code",
   "execution_count": 33,
   "id": "8f6b9a5a",
   "metadata": {},
   "outputs": [
    {
     "name": "stdout",
     "output_type": "stream",
     "text": [
      "score:0.8905570060922542\n",
      "Confusion Matrix:\n",
      " [[3857  102]\n",
      " [ 401  236]]\n"
     ]
    }
   ],
   "source": [
    "# Apply Ada Boost Classifier\n",
    "# Create a classifier\n",
    "abc = AdaBoostClassifier()\n",
    "\n",
    "# Train the model using the training sets\n",
    "abc.fit(X_train, y_train)\n",
    "\n",
    "# Predict the response for test dataset\n",
    "abc_pred = abc.predict(X_test)\n",
    "\n",
    "# Assess model performance\n",
    "print(\"score:{}\".format(accuracy_score(y_test, abc_pred)))\n",
    "print(\"Confusion Matrix:\\n\", confusion_matrix(y_test, abc_pred))"
   ]
  },
  {
   "cell_type": "markdown",
   "id": "dbc04a35",
   "metadata": {},
   "source": [
    "### 5.4. GradientBoostingClassifier"
   ]
  },
  {
   "cell_type": "code",
   "execution_count": 34,
   "id": "2eaaf842",
   "metadata": {},
   "outputs": [
    {
     "name": "stdout",
     "output_type": "stream",
     "text": [
      "score:0.891644908616188\n",
      "Confusion Matrix:\n",
      " [[3873   86]\n",
      " [ 412  225]]\n"
     ]
    }
   ],
   "source": [
    "# Apply Gradient Boosting Classifier\n",
    "# Create a classifier\n",
    "gbc = GradientBoostingClassifier()\n",
    "\n",
    "# Train the model using the training sets\n",
    "gbc.fit(X_train, y_train)\n",
    "\n",
    "# Predict the response for test dataset\n",
    "gbc_pred = gbc.predict(X_test)\n",
    "\n",
    "# Assess model performance\n",
    "print(\"score:{}\".format(accuracy_score(y_test, gbc_pred)))\n",
    "print(\"Confusion Matrix:\\n\", confusion_matrix(y_test, gbc_pred))"
   ]
  },
  {
   "cell_type": "markdown",
   "id": "da99b2f3",
   "metadata": {},
   "source": [
    "### 5.5. ROC curve"
   ]
  },
  {
   "cell_type": "code",
   "execution_count": 40,
   "id": "9068868f",
   "metadata": {},
   "outputs": [],
   "source": [
    "# Predict probabilities\n",
    "y_score1 = rfc.predict_proba(X_test)[:,1]\n",
    "\n",
    "y_score2 = abc.predict_proba(X_test)[:,1]\n",
    "\n",
    "y_score3 = gbc.predict_proba(X_test)[:,1]\n",
    "\n",
    "# Compute ROC curve and ROC area\n",
    "fpr1, tpr1, _ = roc_curve(y_test, y_score1)\n",
    "roc_auc1 = auc(fpr1, tpr1)\n",
    "\n",
    "fpr2, tpr2, _ = roc_curve(y_test, y_score2)\n",
    "roc_auc2 = auc(fpr2, tpr2)\n",
    "\n",
    "fpr3, tpr3, _ = roc_curve(y_test, y_score3)\n",
    "roc_auc3 = auc(fpr3, tpr3)"
   ]
  },
  {
   "cell_type": "code",
   "execution_count": 41,
   "id": "32c0c07b",
   "metadata": {},
   "outputs": [
    {
     "data": {
      "image/png": "[encoded data removed]",
      "text/plain": [
       "<Figure size 640x480 with 1 Axes>"
      ]
     },
     "metadata": {},
     "output_type": "display_data"
    }
   ],
   "source": [
    "# Plot ROC Curve\n",
    "plt.figure()\n",
    "lw = 2\n",
    "plt.plot(fpr1, tpr1, color='darkorange', lw=lw, label='ROC curve for model 1 (area = %0.2f)' % roc_auc1)\n",
    "plt.plot(fpr2, tpr2, color='green', lw=lw, label='ROC curve for model 2 (area = %0.2f)' % roc_auc2)\n",
    "plt.plot(fpr3, tpr3, color='blue', lw=lw, label='ROC curve for model 3 (area = %0.2f)' % roc_auc3)\n",
    "plt.plot([0, 1], [0, 1], color='navy', lw=lw, linestyle='--')\n",
    "plt.xlim([0.0, 1.0])\n",
    "plt.ylim([0.0, 1.05])\n",
    "plt.xlabel('False Positive Rate')\n",
    "plt.ylabel('True Positive Rate')\n",
    "plt.title('Receiver Operating Characteristic')\n",
    "plt.legend(loc=\"lower right\")\n",
    "plt.show()"
   ]
  },
  {
   "cell_type": "markdown",
   "id": "cfbd7423",
   "metadata": {},
   "source": [
    "### 5.6. Exporting Pickle Dump Files"
   ]
  },
  {
   "cell_type": "code",
   "execution_count": 42,
   "id": "8e0be465",
   "metadata": {},
   "outputs": [],
   "source": [
    "with open('Financial_Inclusion_Model.pkl', 'wb') as f:\n",
    "    pickle.dump(gbc, f)\n",
    "\n",
    "with open('FI_country_Encoder.pkl', 'wb') as f:\n",
    "    pickle.dump(le_country, f)\n",
    "\n",
    "with open('FI_relationship_with_head_Encoder.pkl', 'wb') as f:\n",
    "    pickle.dump(le_relationship_with_head, f)\n",
    "\n",
    "with open('FI_marital_status_Encoder.pkl', 'wb') as f:\n",
    "    pickle.dump(le_marital_status, f)\n",
    "    \n",
    "with open('FI_education_Encoder.pkl', 'wb') as f:\n",
    "    pickle.dump(le_education_level, f)\n",
    "    \n",
    "with open('FI_job_type_Encoder.pkl', 'wb') as f:\n",
    "    pickle.dump(le_job_type, f)"
   ]
  },
  {
   "cell_type": "code",
   "execution_count": null,
   "id": "d0d8b592",
   "metadata": {},
   "outputs": [],
   "source": []
  }
 ],
 "metadata": {
  "kernelspec": {
   "display_name": "Python 3 (ipykernel)",
   "language": "python",
   "name": "python3"
  },
  "language_info": {
   "codemirror_mode": {
    "name": "ipython",
    "version": 3
   },
   "file_extension": ".py",
   "mimetype": "text/x-python",
   "name": "python",
   "nbconvert_exporter": "python",
   "pygments_lexer": "ipython3",
   "version": "3.11.5"
  }
 },
 "nbformat": 4,
 "nbformat_minor": 5
}
